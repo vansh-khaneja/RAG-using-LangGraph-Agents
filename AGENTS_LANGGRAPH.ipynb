{
  "nbformat": 4,
  "nbformat_minor": 0,
  "metadata": {
    "colab": {
      "provenance": []
    },
    "kernelspec": {
      "name": "python3",
      "display_name": "Python 3"
    },
    "language_info": {
      "name": "python"
    }
  },
  "cells": [
    {
      "cell_type": "code",
      "source": [
        "!pip install langchain langchain_qdrant langchain_community langgraph groq sentence_transformers faiss-cpu langchain_groq langchain_community arxiv wikipedia gradio"
      ],
      "metadata": {
        "id": "aYO5haXt2uGG"
      },
      "execution_count": null,
      "outputs": []
    },
    {
      "cell_type": "code",
      "execution_count": null,
      "metadata": {
        "id": "UZY4SZsl2nAo"
      },
      "outputs": [],
      "source": [
        "from langchain_community.document_loaders import TextLoader\n",
        "from langchain_community.vectorstores import Qdrant\n",
        "from langchain_community.embeddings.huggingface import HuggingFaceEmbeddings\n",
        "from langchain_text_splitters import RecursiveCharacterTextSplitter\n",
        "\n"
      ]
    },
    {
      "cell_type": "code",
      "source": [
        "import pandas as pd\n",
        "from langchain.schema import Document\n",
        "\n",
        "file_path = '/content/Airline Dataset.csv'\n",
        "df = pd.read_csv(file_path)\n",
        "\n",
        "rows_as_strings = []\n",
        "for index, row in df.iterrows():\n",
        "    row_string = '  '.join([f\"{col} = {row[col]}\" for col in df.columns])\n",
        "    rows_as_strings.append(row_string)\n",
        "\n",
        "data_list = rows_as_strings\n",
        "documents = [Document(page_content=row) for row in data_list]\n",
        "# Optionally, display the first few elements\n",
        "print(data_list[:5])"
      ],
      "metadata": {
        "colab": {
          "base_uri": "https://localhost:8080/"
        },
        "id": "AducuFQ8eWK8",
        "outputId": "82754c7f-7e4f-49a7-f715-fc01629a8b0a"
      },
      "execution_count": null,
      "outputs": [
        {
          "output_type": "stream",
          "name": "stdout",
          "text": [
            "['Passenger ID = 10856  First Name = Edithe  Last Name = Leggis  Gender = Female  Age = 62  Nationality = Japan  Airport Name = Coldfoot Airport  Airport Country Code = US  Country Name = United States  Airport Continent = NAM  Continents = North America  Departure Date = 6/28/2022  Arrival Airport = CXF  Pilot Name = Edithe Leggis  Flight Status = On Time', 'Passenger ID = 43872  First Name = Elwood  Last Name = Catt  Gender = Male  Age = 62  Nationality = Nicaragua  Airport Name = Kugluktuk Airport  Airport Country Code = CA  Country Name = Canada  Airport Continent = NAM  Continents = North America  Departure Date = 12/26/2022  Arrival Airport = YCO  Pilot Name = Elwood Catt  Flight Status = On Time', 'Passenger ID = 42633  First Name = Darby  Last Name = Felgate  Gender = Male  Age = 67  Nationality = Russia  Airport Name = Grenoble-Isère Airport  Airport Country Code = FR  Country Name = France  Airport Continent = EU  Continents = Europe  Departure Date = 1/18/2022  Arrival Airport = GNB  Pilot Name = Darby Felgate  Flight Status = On Time', 'Passenger ID = 78493  First Name = Dominica  Last Name = Pyle  Gender = Female  Age = 71  Nationality = China  Airport Name = Ottawa / Gatineau Airport  Airport Country Code = CA  Country Name = Canada  Airport Continent = NAM  Continents = North America  Departure Date = 9/16/2022  Arrival Airport = YND  Pilot Name = Dominica Pyle  Flight Status = Delayed', 'Passenger ID = 82072  First Name = Bay  Last Name = Pencost  Gender = Male  Age = 21  Nationality = China  Airport Name = Gillespie Field  Airport Country Code = US  Country Name = United States  Airport Continent = NAM  Continents = North America  Departure Date = 2/25/2022  Arrival Airport = SEE  Pilot Name = Bay Pencost  Flight Status = On Time']\n"
          ]
        }
      ]
    },
    {
      "cell_type": "code",
      "source": [
        "embeddings = HuggingFaceEmbeddings(\n",
        "    model_name=\"sentence-transformers/all-mpnet-base-v2\"\n",
        ")"
      ],
      "metadata": {
        "id": "ZZsozJ5q3jSR"
      },
      "execution_count": null,
      "outputs": []
    },
    {
      "cell_type": "code",
      "source": [],
      "metadata": {
        "id": "Wd__q4y63mg5"
      },
      "execution_count": null,
      "outputs": []
    },
    {
      "cell_type": "code",
      "source": [],
      "metadata": {
        "id": "xYGZ6saztwUt"
      },
      "execution_count": null,
      "outputs": []
    },
    {
      "cell_type": "code",
      "source": [
        "vectorstore = Qdrant.from_documents(\n",
        "    documents,\n",
        "    embeddings,\n",
        "    location=\":memory:\",\n",
        "    collection_name=\"my_docs\",\n",
        ")\n",
        "\n",
        "#vectorstore = Qdrant().from_documents(splits, embeddings)\n"
      ],
      "metadata": {
        "id": "8XC1iesV4DgQ"
      },
      "execution_count": null,
      "outputs": []
    },
    {
      "cell_type": "code",
      "source": [
        "retriever = vectorstore.as_retriever()\n",
        "\n"
      ],
      "metadata": {
        "id": "LviU2FZ44ggM"
      },
      "execution_count": null,
      "outputs": []
    },
    {
      "cell_type": "code",
      "source": [
        "retriever.invoke(\"tell me details for passenger id 10856 with name Edithe Leggis\")[0]\n",
        "\n"
      ],
      "metadata": {
        "id": "JOW9l9L-4w5a",
        "colab": {
          "base_uri": "https://localhost:8080/"
        },
        "outputId": "cf086ba0-aeec-4b34-9c6b-867a99581d52"
      },
      "execution_count": null,
      "outputs": [
        {
          "output_type": "execute_result",
          "data": {
            "text/plain": [
              "Document(metadata={'_id': '18dd0b21f88748e9ba43be7ed89f907f', '_collection_name': 'my_docs'}, page_content='Passenger ID = 16341  First Name = Denys  Last Name = Endricci  Gender = Male  Age = 33  Nationality = Nigeria  Airport Name = Biju Patnaik Airport  Airport Country Code = IN  Country Name = India  Airport Continent = AS  Continents = Asia  Departure Date = 7/22/2022  Arrival Airport = BBI  Pilot Name = Denys Endricci  Flight Status = Delayed')"
            ]
          },
          "metadata": {},
          "execution_count": 74
        }
      ]
    },
    {
      "cell_type": "code",
      "source": [
        "from typing import Literal\n",
        "\n",
        "from langchain_core.prompts import ChatPromptTemplate\n",
        "from langchain_core.pydantic_v1 import BaseModel, Field\n",
        "\n",
        "\n",
        "\n",
        "# Data model\n",
        "class RouteQuery(BaseModel):\n",
        "    \"\"\"Route a user query to the most relevant datasource.\"\"\"\n",
        "\n",
        "    datasource: Literal[\"vectorstore\", \"wiki_search\"] = Field(\n",
        "        ...,\n",
        "        description=\"Given a user question choose to route it to wikipedia or a vectorstore.\",\n",
        "    )\n",
        "\n",
        "from google.colab import userdata\n",
        "# LLM with function call\n",
        "from langchain_groq import ChatGroq\n",
        "import os\n",
        "\n",
        "llm=ChatGroq(groq_api_key=\"YOUR_GORQ_API_KEY\",model_name=\"Gemma2-9b-It\")\n",
        "structured_llm_router = llm.with_structured_output(RouteQuery)\n",
        "\n",
        "# Prompt\n",
        "system = \"\"\"You are an expert at routing a user question to a vectorstore or wikipedia.\n",
        "The vectorstore details of flights passenger their dates code number timings etc.\n",
        "Use the vectorstore for questions on these topics. Otherwise, use wiki-search.\"\"\"\n",
        "route_prompt = ChatPromptTemplate.from_messages(\n",
        "    [\n",
        "        (\"system\", system),\n",
        "        (\"human\", \"{question}\"),\n",
        "    ]\n",
        ")\n",
        "\n",
        "question_router = route_prompt | structured_llm_router\n",
        "print(question_router.invoke({\"question\": \"filght delayed on 01/01/2019\"}))\n",
        "print(question_router.invoke({\"question\": \"Who is sharukhkan?\"}))"
      ],
      "metadata": {
        "colab": {
          "base_uri": "https://localhost:8080/"
        },
        "id": "mB9diKnc44f1",
        "outputId": "13ebe1ba-dc0f-47a6-b554-18578c941335"
      },
      "execution_count": null,
      "outputs": [
        {
          "output_type": "stream",
          "name": "stdout",
          "text": [
            "datasource='vectorstore'\n",
            "datasource='wiki_search'\n"
          ]
        }
      ]
    },
    {
      "cell_type": "code",
      "source": [
        "from langchain_community.utilities import WikipediaAPIWrapper\n",
        "from langchain_community.tools import WikipediaQueryRun\n",
        "\n",
        "\n",
        "\n",
        "api_wrapper=WikipediaAPIWrapper(top_k_results=1,doc_content_chars_max=200)\n",
        "wiki=WikipediaQueryRun(api_wrapper=api_wrapper)"
      ],
      "metadata": {
        "id": "HEkf8fFm9OxF"
      },
      "execution_count": null,
      "outputs": []
    },
    {
      "cell_type": "code",
      "source": [
        "from typing import List\n",
        "\n",
        "from typing_extensions import TypedDict\n",
        "\n",
        "\n",
        "class GraphState(TypedDict):\n",
        "\n",
        "    question: str\n",
        "    generation: str\n",
        "    documents: List[str]"
      ],
      "metadata": {
        "id": "pHA0bQ4e9Tk1"
      },
      "execution_count": null,
      "outputs": []
    },
    {
      "cell_type": "code",
      "source": [
        "from langchain.schema import Document\n",
        "\n",
        "def retrieve(state):\n",
        "\n",
        "    print(\"---RETRIEVE---\")\n",
        "    question = state[\"question\"]\n",
        "\n",
        "    # Retrieval\n",
        "    documents = retriever.invoke(question)\n",
        "    return {\"documents\": documents, \"question\": question}"
      ],
      "metadata": {
        "id": "MvnqAdxE-Evj"
      },
      "execution_count": null,
      "outputs": []
    },
    {
      "cell_type": "code",
      "source": [
        "def wiki_search(state):\n",
        "\n",
        "    print(\"---wikipedia---\")\n",
        "    question = state[\"question\"]\n",
        "    print(question)\n",
        "\n",
        "    docs = wiki.invoke({\"query\": question})\n",
        "    wiki_results = docs\n",
        "    wiki_results = Document(page_content=wiki_results)\n",
        "\n",
        "    return {\"documents\": wiki_results, \"question\": question}"
      ],
      "metadata": {
        "id": "M1CSeHel-W-E"
      },
      "execution_count": null,
      "outputs": []
    },
    {
      "cell_type": "code",
      "source": [
        "\n",
        "\n",
        "def route_question(state):\n",
        "\n",
        "\n",
        "    print(\"---ROUTE QUESTION---\")\n",
        "    question = state[\"question\"]\n",
        "    source = question_router.invoke({\"question\": question})\n",
        "    if source.datasource == \"wiki_search\":\n",
        "        print(\"---ROUTE QUESTION TO Wiki SEARCH---\")\n",
        "        return \"wiki_search\"\n",
        "    elif source.datasource == \"vectorstore\":\n",
        "        print(\"---ROUTE QUESTION TO RAG---\")\n",
        "        return \"vectorstore\""
      ],
      "metadata": {
        "id": "gd9tRekw_0M4"
      },
      "execution_count": null,
      "outputs": []
    },
    {
      "cell_type": "code",
      "source": [
        "from langgraph.graph import END, StateGraph, START\n",
        "\n",
        "workflow = StateGraph(GraphState)\n",
        "workflow.add_node(\"wiki_search\", wiki_search)\n",
        "workflow.add_node(\"retrieve\", retrieve)\n",
        "workflow.add_conditional_edges(\n",
        "    START,\n",
        "    route_question,\n",
        "    {\n",
        "        \"wiki_search\": \"wiki_search\",\n",
        "        \"vectorstore\": \"retrieve\",\n",
        "    },\n",
        ")\n",
        "workflow.add_edge( \"retrieve\", END)\n",
        "workflow.add_edge( \"wiki_search\", END)\n",
        "# Compile\n",
        "app = workflow.compile()"
      ],
      "metadata": {
        "id": "3JKgtHspSma_"
      },
      "execution_count": null,
      "outputs": []
    },
    {
      "cell_type": "code",
      "source": [
        "from IPython.display import Image, display\n",
        "\n",
        "try:\n",
        "    display(Image(app.get_graph().draw_mermaid_png()))\n",
        "except Exception:\n",
        "    pass"
      ],
      "metadata": {
        "colab": {
          "base_uri": "https://localhost:8080/",
          "height": 255
        },
        "id": "j6jGBxWuSpgD",
        "outputId": "fda90c3c-81a1-43ac-82ad-0fb72ffcd886"
      },
      "execution_count": null,
      "outputs": [
        {
          "output_type": "display_data",
          "data": {
            "image/jpeg": "[encoded data removed]",
            "text/plain": [
              "<IPython.core.display.Image object>"
            ]
          },
          "metadata": {}
        }
      ]
    },
    {
      "cell_type": "code",
      "source": [
        "from pprint import pprint\n",
        "def ask(input_text):\n",
        "    inputs = {\n",
        "        \"question\": input_text\n",
        "    }\n",
        "\n",
        "    for output in app.stream(inputs):\n",
        "        for key, value in output.items():\n",
        "            # Node\n",
        "            pprint(f\"Node '{key}':\")\n",
        "            # Optional: print full state at each node\n",
        "            # pprint.pprint(value[\"keys\"], indent=2, width=80, depth=None)\n",
        "        pprint(\"\\n---\\n\")\n",
        "\n",
        "    # Final generation\n",
        "    answer = value['documents'][0].page_content\n",
        "    system = \"You are a helpful previous airport flights that delayed detialing assistant.\"\n",
        "    human = f\"{input_text}\"\n",
        "    prompt = ChatPromptTemplate.from_messages([(\"system\", system), (\"human\", human)])\n",
        "    chain = prompt | llm\n",
        "    ans = chain.invoke({\"text\": f\"\"\"This is the question asked {input_text} and this is the context {answer} Please show a formatted answer mentioning date time airport etc but only necessary details in not more then 70 words\"\"\"}).content\n",
        "    return ans"
      ],
      "metadata": {
        "id": "eg4ISQisSr-1"
      },
      "execution_count": null,
      "outputs": []
    },
    {
      "cell_type": "code",
      "source": [
        "query = \"tell me details for passenger id 10856 with name Edithe Leggis\"\n",
        "answer = ask(query)\n",
        "print(answer)"
      ],
      "metadata": {
        "colab": {
          "base_uri": "https://localhost:8080/"
        },
        "id": "6s9Hc76Agr7f",
        "outputId": "6c9df3a2-7b9f-4ab0-c7aa-0ba217846b6d"
      },
      "execution_count": null,
      "outputs": [
        {
          "output_type": "stream",
          "name": "stdout",
          "text": [
            "---ROUTE QUESTION---\n",
            "---ROUTE QUESTION TO RAG---\n",
            "---RETRIEVE---\n",
            "\"Node 'retrieve':\"\n",
            "'\\n---\\n'\n",
            "I've accessed the flight database for you.\n",
            "\n",
            "**Passenger Details:**\n",
            "\n",
            "* Passenger ID: 10856\n",
            "* Name: Edithe Leggis\n",
            "\n",
            "**Flight Information:**\n",
            "\n",
            "* Flight Number: UA1234\n",
            "* Departure Airport: John F. Kennedy International Airport (JFK)\n",
            "* Destination Airport: Los Angeles International Airport (LAX)\n",
            "* Scheduled Departure Time: 08:00 AM (EST) on February 10, 2023\n",
            "* Scheduled Arrival Time: 11:15 AM (PST) on February 10, 2023\n",
            "\n",
            "**Flight Status:**\n",
            "\n",
            "* Current Status: Delayed\n",
            "* Reason for Delay: Air Traffic Control Issues\n",
            "* Estimated Departure Time: 10:30 AM (EST) on February 10, 2023 (subject to change)\n",
            "* Estimated Arrival Time: 1:45 PM (PST) on February 10, 2023 (subject to change)\n",
            "\n",
            "**Seat Information:**\n",
            "\n",
            "* Seat Number: 17C\n",
            "* Seat Class: Economy\n",
            "\n",
            "**Baggage Information:**\n",
            "\n",
            "* Number of Checked Bags: 1\n",
            "* Baggage Claim Area: Terminal 4, Carousel 12 (LAX)\n",
            "\n",
            "**Additional Information:**\n",
            "\n",
            "* Edithe Leggis has a connecting flight from LAX to San Francisco International Airport (SFO) on UA5678, departing at 3:30 PM (PST) on February 10, 2023.\n",
            "* The airline has offered a complimentary meal voucher and a $50 travel voucher as a gesture of goodwill for the inconvenience caused by the delay.\n",
            "\n",
            "Please note that the flight status and estimated departure/arrival times are subject to change. I recommend checking with the airline's website or mobile app for the latest updates.\n"
          ]
        }
      ]
    },
    {
      "cell_type": "code",
      "source": [
        "import gradio as gr\n",
        "\n",
        "def process_text(input_text):\n",
        "    output_text = f\"You entered: {input_text}\"\n",
        "    return output_text\n",
        "\n",
        "iface = gr.Interface(\n",
        "    fn=ask,\n",
        "    inputs=\"text\",\n",
        "    outputs=\"text\",\n",
        "    title=\"Airlines RAG bot\",\n",
        "    description=\"Enter some text and see the output below.\"\n",
        ")\n",
        "\n",
        "iface.launch()"
      ],
      "metadata": {
        "colab": {
          "base_uri": "https://localhost:8080/",
          "height": 650
        },
        "id": "yRJOMpC-id9w",
        "outputId": "70449088-4df9-4ea4-d63d-91f715f67ea2"
      },
      "execution_count": null,
      "outputs": [
        {
          "output_type": "stream",
          "name": "stdout",
          "text": [
            "Setting queue=True in a Colab notebook requires sharing enabled. Setting `share=True` (you can turn this off by setting `share=False` in `launch()` explicitly).\n",
            "\n",
            "Colab notebook detected. To show errors in colab notebook, set debug=True in launch()\n",
            "Running on public URL: https://a3a3e013e4db697911.gradio.live\n",
            "\n",
            "This share link expires in 72 hours. For free permanent hosting and GPU upgrades, run `gradio deploy` from Terminal to deploy to Spaces (https://huggingface.co/spaces)\n"
          ]
        },
        {
          "output_type": "display_data",
          "data": {
            "text/plain": [
              "<IPython.core.display.HTML object>"
            ],
            "text/html": [
              "<div><iframe src=\"https://a3a3e013e4db697911.gradio.live\" width=\"100%\" height=\"500\" allow=\"autoplay; camera; microphone; clipboard-read; clipboard-write;\" frameborder=\"0\" allowfullscreen></iframe></div>"
            ]
          },
          "metadata": {}
        },
        {
          "output_type": "execute_result",
          "data": {
            "text/plain": []
          },
          "metadata": {},
          "execution_count": 104
        }
      ]
    },
    {
      "cell_type": "code",
      "source": [],
      "metadata": {
        "id": "kjFMSDowSwx9",
        "colab": {
          "base_uri": "https://localhost:8080/"
        },
        "outputId": "506e3090-5ce4-472d-e54b-e4c76033f544"
      },
      "execution_count": null,
      "outputs": [
        {
          "output_type": "stream",
          "name": "stdout",
          "text": [
            "['carrier_code = G4  date = 01/01/2019  flight_number = 3  tail_number = 312NV  origin_airport = FAT  scheduled_arrival_time = 17:25  actual_arrival_time = 17:17  scheduled_elapsed_time_minutes = 70  actual_elapsed_time_minutes = 67  arrival_delay_minutes = -8  wheels-on_time = 17:12  taxi-in_time_minutes = 5  delay_carrier_minutes = 0  delay_weather_minutes = 0  delay_national_aviation_system_minutes = 0  delay_security_minutes = 0  delay_late_aircraft_arrival_minutes = 0', 'carrier_code = G4  date = 01/01/2019  flight_number = 35  tail_number = 306NV  origin_airport = RNO  scheduled_arrival_time = 12:23  actual_arrival_time = 12:11  scheduled_elapsed_time_minutes = 76  actual_elapsed_time_minutes = 68  arrival_delay_minutes = -12  wheels-on_time = 12:07  taxi-in_time_minutes = 4  delay_carrier_minutes = 0  delay_weather_minutes = 0  delay_national_aviation_system_minutes = 0  delay_security_minutes = 0  delay_late_aircraft_arrival_minutes = 0', 'carrier_code = G4  date = 01/01/2019  flight_number = 133  tail_number = 306NV  origin_airport = SCK  scheduled_arrival_time = 16:29  actual_arrival_time = 16:29  scheduled_elapsed_time_minutes = 73  actual_elapsed_time_minutes = 65  arrival_delay_minutes = 0  wheels-on_time = 16:22  taxi-in_time_minutes = 7  delay_carrier_minutes = 0  delay_weather_minutes = 0  delay_national_aviation_system_minutes = 0  delay_security_minutes = 0  delay_late_aircraft_arrival_minutes = 0', 'carrier_code = G4  date = 01/01/2019  flight_number = 710  tail_number = 311NV  origin_airport = BLI  scheduled_arrival_time = 18:23  actual_arrival_time = 17:56  scheduled_elapsed_time_minutes = 152  actual_elapsed_time_minutes = 139  arrival_delay_minutes = -27  wheels-on_time = 17:50  taxi-in_time_minutes = 6  delay_carrier_minutes = 0  delay_weather_minutes = 0  delay_national_aviation_system_minutes = 0  delay_security_minutes = 0  delay_late_aircraft_arrival_minutes = 0', 'carrier_code = G4  date = 01/01/2019  flight_number = 2808  tail_number = 225NV  origin_airport = CVG  scheduled_arrival_time = 13:03  actual_arrival_time = 13:39  scheduled_elapsed_time_minutes = 243  actual_elapsed_time_minutes = 263  arrival_delay_minutes = 36  wheels-on_time = 13:28  taxi-in_time_minutes = 11  delay_carrier_minutes = 16  delay_weather_minutes = 0  delay_national_aviation_system_minutes = 20  delay_security_minutes = 0  delay_late_aircraft_arrival_minutes = 0']\n"
          ]
        }
      ]
    },
    {
      "cell_type": "code",
      "source": [],
      "metadata": {
        "id": "RCetGo1UPIox"
      },
      "execution_count": null,
      "outputs": []
    },
    {
      "cell_type": "code",
      "source": [],
      "metadata": {
        "id": "mwkjoDGiUjCY"
      },
      "execution_count": null,
      "outputs": []
    }
  ]
}